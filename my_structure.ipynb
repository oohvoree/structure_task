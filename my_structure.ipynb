# structure_task
# Проєкт: Робота зі структурами Python

## Опис проєкту
У 1 проєкті ми працюємо з даними команди, використовуючи структури даних у Python, такі як словники і класи. Завдання полягає у створенні структури для зберігання інформації про команду та фільтрація їх за кількістю перемог.
У 2 проєкті ми працюємо з даними студентів, використовуючи структури даних у Python, такі як словники і класи. Завдання полягає у створенні структури для зберігання інформації про студентів та фільтрація їх за найменшим показником року народження.
{
  "nbformat": 4,
  "nbformat_minor": 0,
  "metadata": {
    "colab": {
      "provenance": [],
      "authorship_tag": "ABX9TyMoOirFJ0IWUlWIlz3Um76T",
      "include_colab_link": true
    },
    "kernelspec": {
      "name": "python3",
      "display_name": "Python 3"
    },
    "language_info": {
      "name": "python"
    }
  },
  "cells": [
    {
      "cell_type": "markdown",
      "metadata": {
        "id": "view-in-github",
        "colab_type": "text"
      },
      "source": [
        "<a href=\"https://colab.research.google.com/github/oohvoree/structure_task/blob/main/my_structure.ipynb\" target=\"_parent\"><img src=\"https://colab.research.google.com/assets/colab-badge.svg\" alt=\"Open In Colab\"/></a>"
      ]
    },
    {
      "cell_type": "code",
      "source": [
        "class Team:\n",
        "    pass\n",
        "\n",
        "n = int(input(\"Скільки команд? \"))\n",
        "teams = []\n",
        "\n",
        "for i in range(n):\n",
        "    t = Team()\n",
        "    t.name = input(\"Назва команди: \")\n",
        "    t.losses = int(input(\"Кількість поразок: \"))\n",
        "    t.wins = int(input(\"Кількість перемог: \"))\n",
        "    t.draws = int(input(\"Кількість нічиїх: \"))\n",
        "    teams.append(t)\n",
        "\n",
        "# Знаходимо команду з найбільшою кількістю перемог\n",
        "best = teams[0]\n",
        "for t in teams:\n",
        "    if t.wins > best.wins:\n",
        "        best = t\n",
        "\n",
        "print(\"Команда з найбільшою кількістю перемог:\", best.name)"
      ],
      "metadata": {
        "colab": {
          "base_uri": "https://localhost:8080/"
        },
        "id": "6QjOeGz4bWqj",
        "outputId": "48951bcf-b6ab-4a07-e720-a86c606eb4da"
      },
      "execution_count": 3,
      "outputs": [
        {
          "output_type": "stream",
          "name": "stdout",
          "text": [
            "Скільки команд? 4\n",
            "Назва команди: Інтеграли\n",
            "Кількість поразок: 3\n",
            "Кількість перемог: 7\n",
            "Кількість нічиїх: 6\n",
            "Назва команди: Психологи з підвалу\n",
            "Кількість поразок: 2\n",
            "Кількість перемог: 8\n",
            "Кількість нічиїх: 5\n",
            "Назва команди: Секстет без границь\n",
            "Кількість поразок: 1\n",
            "Кількість перемог: 7\n",
            "Кількість нічиїх: 3\n",
            "Назва команди: лера\n",
            "Кількість поразок: 0\n",
            "Кількість перемог: 10\n",
            "Кількість нічиїх: 2\n",
            "Команда з найбільшою кількістю перемог: лера\n"
          ]
        }
      ]
    },
    {
      "cell_type": "code",
      "source": [
        "n = int(input(\"Скільки команд? \"))\n",
        "teams = []\n",
        "\n",
        "for i in range(n):\n",
        "    t = {}\n",
        "    t[\"name\"] = input(\"Назва команди: \")\n",
        "    t[\"losses\"] = int(input(\"Кількість поразок: \"))\n",
        "    t[\"wins\"] = int(input(\"Кількість перемог: \"))\n",
        "    t[\"draws\"] = int(input(\"Кількість нічиїх: \"))\n",
        "    teams.append(t)\n",
        "\n",
        "best = teams[0]\n",
        "for t in teams:\n",
        "    if t[\"wins\"] > best[\"wins\"]:\n",
        "        best = t\n",
        "\n",
        "print(\"Команда з найбільшою кількістю перемог:\", best[\"name\"])"
      ],
      "metadata": {
        "colab": {
          "base_uri": "https://localhost:8080/"
        },
        "id": "UK6UOtx9b1vu",
        "outputId": "808fbc93-de27-443b-99a7-bd3a4bf397a1"
      },
      "execution_count": 4,
      "outputs": [
        {
          "output_type": "stream",
          "name": "stdout",
          "text": [
            "Скільки команд? 4\n",
            "Назва команди: Інтеграли\n",
            "Кількість поразок: 3\n",
            "Кількість перемог: 7\n",
            "Кількість нічиїх: 6\n",
            "Назва команди: Психологи з підвалу\n",
            "Кількість поразок: 2\n",
            "Кількість перемог: 8\n",
            "Кількість нічиїх: 5\n",
            "Назва команди: Секстет без границь\n",
            "Кількість поразок: 1\n",
            "Кількість перемог: 7\n",
            "Кількість нічиїх: 3\n",
            "Назва команди: лера\n",
            "Кількість поразок: 0\n",
            "Кількість перемог: 10\n",
            "Кількість нічиїх: 2\n",
            "Команда з найбільшою кількістю перемог: лера\n"
          ]
        }
      ]
    },
    {
      "cell_type": "code",
      "source": [
        "class Student:\n",
        "    pass\n",
        "\n",
        "n = int(input(\"Скільки студентів? \"))\n",
        "students = []\n",
        "\n",
        "for i in range(n):\n",
        "    s = Student()\n",
        "    s.name = input(\"ПІП: \")\n",
        "    s.course = int(input(\"Курс: \"))\n",
        "    s.group = input(\"Група: \")\n",
        "    s.year = int(input(\"Рік народження: \"))\n",
        "    students.append(s)\n",
        "\n",
        "youngest = students[0]\n",
        "for s in students:\n",
        "    if s.year > youngest.year:\n",
        "        youngest = s\n",
        "\n",
        "print(\"Наймолодший студент:\", youngest.name)"
      ],
      "metadata": {
        "colab": {
          "base_uri": "https://localhost:8080/"
        },
        "id": "bETzg9QycR1v",
        "outputId": "9341e00e-a780-4a82-a35d-ddf071e84923"
      },
      "execution_count": 5,
      "outputs": [
        {
          "output_type": "stream",
          "name": "stdout",
          "text": [
            "Скільки студентів? 5\n",
            "ПІП: Адамлюк\n",
            "Курс: 1\n",
            "Група: СОМ\n",
            "Рік народження: 2005\n",
            "ПІП: Гріщенко\n",
            "Курс: 1\n",
            "Група: СОМ\n",
            "Рік народження: 2006\n",
            "ПІП: Пучкова\n",
            "Курс: 1\n",
            "Група: СОМ\n",
            "Рік народження: 2007\n",
            "ПІП: Киця\n",
            "Курс: 1\n",
            "Група: СОМ\n",
            "Рік народження: 2006\n",
            "ПІП: Бичко\n",
            "Курс: 1\n",
            "Група: СОМ\n",
            "Рік народження: 2006\n",
            "Наймолодший студент: Пучкова\n"
          ]
        }
      ]
    },
    {
      "cell_type": "code",
      "source": [
        "n = int(input(\"Скільки студентів? \"))\n",
        "students = []\n",
        "\n",
        "for i in range(n):\n",
        "    s = {}\n",
        "    s[\"name\"] = input(\"ПІП: \")\n",
        "    s[\"course\"] = int(input(\"Курс: \"))\n",
        "    s[\"group\"] = input(\"Група: \")\n",
        "    s[\"year\"] = int(input(\"Рік народження: \"))\n",
        "    students.append(s)\n",
        "\n",
        "youngest = students[0]\n",
        "for s in students:\n",
        "    if s[\"year\"] > youngest[\"year\"]:\n",
        "        youngest = s\n",
        "\n",
        "print(\"Наймолодший студент:\", youngest[\"name\"])"
      ],
      "metadata": {
        "colab": {
          "base_uri": "https://localhost:8080/"
        },
        "id": "6U989Tgpc9aq",
        "outputId": "6192ae9a-22fd-4d54-d207-58c89c911969"
      },
      "execution_count": 6,
      "outputs": [
        {
          "output_type": "stream",
          "name": "stdout",
          "text": [
            "Скільки студентів? 5\n",
            "ПІП: Адамлюк\n",
            "Курс: 1\n",
            "Група: СОМ\n",
            "Рік народження: 2005\n",
            "ПІП: Гріщенко\n",
            "Курс: 1\n",
            "Група: СОМ\n",
            "Рік народження: 2006\n",
            "ПІП: Пучкова\n",
            "Курс: 1\n",
            "Група: СОМ\n",
            "Рік народження: 2007\n",
            "ПІП: Киця\n",
            "Курс: 1\n",
            "Група: СОМ\n",
            "Рік народження: 2006\n",
            "ПІП: Бичко\n",
            "Курс: 1\n",
            "Група: СОМ\n",
            "Рік народження: 2006\n",
            "Наймолодший студент: Пучкова\n"
          ]
        }
      ]
    }
  ]
}
